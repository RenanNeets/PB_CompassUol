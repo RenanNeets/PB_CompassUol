{
  "cells": [
    {
      "cell_type": "markdown",
      "metadata": {},
      "source": [
        "Importando biblioteca do Pyspark"
      ]
    },
    {
      "cell_type": "code",
      "execution_count": null,
      "metadata": {},
      "outputs": [],
      "source": [
        "from pyspark.sql import SparkSession"
      ]
    },
    {
      "cell_type": "markdown",
      "metadata": {},
      "source": [
        "Sessão Spark"
      ]
    },
    {
      "cell_type": "code",
      "execution_count": null,
      "metadata": {},
      "outputs": [],
      "source": [
        "spark = SparkSession.builder.appName(\"ExercicioSpark\").getOrCreate()\n"
      ]
    },
    {
      "cell_type": "markdown",
      "metadata": {},
      "source": [
        "Código para contar as palavras"
      ]
    },
    {
      "cell_type": "code",
      "execution_count": null,
      "metadata": {},
      "outputs": [],
      "source": [
        "readme = spark.read.text(\"README.md\")\n",
        "\n",
        "palavras = readme.rdd.flatMap(lambda line: line[0].split(\" \"))\n",
        "quantidade = palavras.map(lambda word: (word, 1)).reduceByKey(lambda a, b: a + b)\n",
        "quantidadeOrganizada = quantidade.sortBy(lambda x: x[1], ascending=False)\n",
        "\n",
        "quantidadeOrganizada.collect()"
      ]
    }
  ],
  "metadata": {
    "colab": {
      "provenance": []
    },
    "kernelspec": {
      "display_name": "Python 3",
      "name": "python3"
    },
    "language_info": {
      "name": "python"
    }
  },
  "nbformat": 4,
  "nbformat_minor": 0
}
