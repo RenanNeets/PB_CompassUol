{
  "cells": [
    {
      "cell_type": "markdown",
      "metadata": {
        "id": "xneLCkRsVR_v"
      },
      "source": [
        "#Etapa 1"
      ]
    },
    {
      "cell_type": "code",
      "execution_count": null,
      "metadata": {
        "id": "65ZjGGEZVXCM"
      },
      "outputs": [],
      "source": [
        "import random"
      ]
    },
    {
      "cell_type": "code",
      "execution_count": null,
      "metadata": {
        "id": "aLBH3mX1VEW0"
      },
      "outputs": [],
      "source": [
        "inteirosAleatorios = [random.randint(0, 1000) for _ in range(250)]\n",
        "intAletReverso = inteirosAleatorios.reverse()\n",
        "intAletReverso\n"
      ]
    },
    {
      "cell_type": "markdown",
      "metadata": {
        "id": "VTzsQoDMVRhs"
      },
      "source": [
        "#Etapa 2"
      ]
    },
    {
      "cell_type": "code",
      "execution_count": null,
      "metadata": {
        "id": "iERr-_PHWBhB"
      },
      "outputs": [],
      "source": [
        "animais = ['Cachorro', 'Gato', 'Elefante', 'Leão', 'Tigre', 'Urso', 'Macaco', 'Girafa', 'Zebra', 'Hipopótamo', 'Rinoceronte', 'Javali', 'Lobo', 'Raposa', 'Coelho', 'Cavalo', 'Vaca', 'Porco', 'Ovelha', 'Galinha']\n",
        "animais.sort()\n",
        "\n",
        "for animal in animais:\n",
        "    print(animal)"
      ]
    },
    {
      "cell_type": "code",
      "execution_count": null,
      "metadata": {
        "id": "WodSwSxMV26Y"
      },
      "outputs": [],
      "source": [
        "with open('animais.csv', 'w') as arquivo:\n",
        "  for animal in animais:\n",
        "    arquivo.write(animal + '\\n')\n",
        "print(\"Arquivo 'animais.csv' criado\")"
      ]
    },
    {
      "cell_type": "markdown",
      "metadata": {
        "id": "wFwiuYOhWb9D"
      },
      "source": [
        "#Etapa 3"
      ]
    },
    {
      "cell_type": "markdown",
      "metadata": {
        "id": "fzjpfqRUNuSw"
      },
      "source": [
        "Instalar biblioteca names"
      ]
    },
    {
      "cell_type": "code",
      "execution_count": null,
      "metadata": {
        "colab": {
          "base_uri": "https://localhost:8080/"
        },
        "id": "6qJ79aSiNxud",
        "outputId": "7d132d99-3bfe-4a99-9e90-4b7be8a6e6f3"
      },
      "outputs": [],
      "source": [
        "!pip install names"
      ]
    },
    {
      "cell_type": "markdown",
      "metadata": {
        "id": "WDcVVvzUN0Mf"
      },
      "source": [
        "Import de bibliotecas e definindo parâmetros"
      ]
    },
    {
      "cell_type": "code",
      "execution_count": 6,
      "metadata": {
        "id": "BxoVRQlsN6xq"
      },
      "outputs": [],
      "source": [
        "import random\n",
        "import time\n",
        "import os\n",
        "import names\n",
        "\n",
        "random.seed(40)\n",
        "qtd_nomes_unicos = 3000\n",
        "qtd_nomes_aleatorios = 10000000"
      ]
    },
    {
      "cell_type": "markdown",
      "metadata": {
        "id": "0mb4tcn3OLEn"
      },
      "source": [
        "Nomes aleatórios"
      ]
    },
    {
      "cell_type": "code",
      "execution_count": null,
      "metadata": {
        "colab": {
          "base_uri": "https://localhost:8080/"
        },
        "id": "G1hLg-9_OP_k",
        "outputId": "9234b65f-5d54-4657-913d-d0d90cd41774"
      },
      "outputs": [],
      "source": [
        "aux = []\n",
        "for i in range(0, qtd_nomes_unicos):\n",
        "  aux.append(names.get_full_name())\n",
        "\n",
        "print(\"Gerando {} nomes aleatórios\".format(qtd_nomes_aleatorios))\n",
        "dados = []\n",
        "for i in range(0, qtd_nomes_aleatorios):\n",
        "  dados.append(random.choice(aux))"
      ]
    },
    {
      "cell_type": "markdown",
      "metadata": {
        "id": "UWhJw9YmOd5e"
      },
      "source": [
        "Colocando os dados num arquivo de texto"
      ]
    },
    {
      "cell_type": "code",
      "execution_count": null,
      "metadata": {
        "colab": {
          "base_uri": "https://localhost:8080/"
        },
        "id": "NWTKy38FOiRd",
        "outputId": "8af83ea6-c556-4afa-d4e0-b045f94a6510"
      },
      "outputs": [],
      "source": [
        "arquivoTxt = \"nomes_aleatorios.txt\"\n",
        "\n",
        "with open(arquivoTxt, \"w\") as arquivo:\n",
        "  for nome in dados:\n",
        "    arquivo.write(nome + \"\\n\")\n",
        "\n",
        "print(f\"Arquivo '{arquivoTxt}' criado\")"
      ]
    }
  ],
  "metadata": {
    "colab": {
      "provenance": []
    },
    "kernelspec": {
      "display_name": "Python 3",
      "name": "python3"
    },
    "language_info": {
      "name": "python"
    }
  },
  "nbformat": 4,
  "nbformat_minor": 0
}
