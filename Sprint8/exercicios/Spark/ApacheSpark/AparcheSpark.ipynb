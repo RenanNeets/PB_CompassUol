{
  "cells": [
    {
      "cell_type": "markdown",
      "metadata": {
        "id": "RKfeRC438enD"
      },
      "source": [
        "#Etapa 1"
      ]
    },
    {
      "cell_type": "markdown",
      "metadata": {
        "id": "6TXF_uTtz-hC"
      },
      "source": [
        "Instalando pyspark"
      ]
    },
    {
      "cell_type": "code",
      "execution_count": null,
      "metadata": {
        "colab": {
          "base_uri": "https://localhost:8080/"
        },
        "id": "KMof6OXb0BxR",
        "outputId": "47cffbfd-23e4-4293-f518-745b77ece343"
      },
      "outputs": [],
      "source": [
        "!pip install pyspark\n",
        "!pip install names"
      ]
    },
    {
      "cell_type": "markdown",
      "metadata": {
        "id": "CclqzHmG0D8c"
      },
      "source": [
        "Importando bibliotecas"
      ]
    },
    {
      "cell_type": "code",
      "execution_count": 2,
      "metadata": {
        "id": "1XKoXv9O0Hed"
      },
      "outputs": [],
      "source": [
        "from pyspark.sql import SparkSession\n",
        "from pyspark import SparkContext, SQLContext\n",
        "\n",
        "spark = SparkSession \\\n",
        "    .builder \\\n",
        "    .master(\"local[*]\") \\\n",
        "    .appName(\"Exercicio Intro\") \\\n",
        "    .getOrCreate()"
      ]
    },
    {
      "cell_type": "markdown",
      "metadata": {
        "id": "eJUuHsu_0ajn"
      },
      "source": [
        "Criando a coluna nome"
      ]
    },
    {
      "cell_type": "code",
      "execution_count": null,
      "metadata": {
        "colab": {
          "base_uri": "https://localhost:8080/"
        },
        "id": "1npZvN0GUuAN",
        "outputId": "208cc913-3004-4a62-c5f7-5a024e2c6a66"
      },
      "outputs": [],
      "source": [
        "df_nomes = spark.read.csv(\"nomes_aleatorios.txt\", header=False, inferSchema=True)\n",
        "df_nomes = df_nomes.withColumnRenamed(\"_c0\", \"nome\")\n",
        "\n",
        "df_nomes.show(5)"
      ]
    },
    {
      "cell_type": "markdown",
      "metadata": {
        "id": "gpDbRf6X8pTw"
      },
      "source": [
        "#Etapa 2"
      ]
    },
    {
      "cell_type": "markdown",
      "metadata": {
        "id": "N9Sn0f731Z3b"
      },
      "source": [
        "Ver o Schema"
      ]
    },
    {
      "cell_type": "code",
      "execution_count": null,
      "metadata": {
        "colab": {
          "base_uri": "https://localhost:8080/"
        },
        "id": "CZFd1I2J1cp-",
        "outputId": "2aa5b70a-bb49-48ee-f1bf-9bdbe415c266"
      },
      "outputs": [],
      "source": [
        "df_nomes.printSchema()"
      ]
    },
    {
      "cell_type": "markdown",
      "metadata": {
        "id": "PLDVbJtM1jLv"
      },
      "source": [
        "Renomeia coluna e mostrar os top 10"
      ]
    },
    {
      "cell_type": "code",
      "execution_count": null,
      "metadata": {
        "colab": {
          "base_uri": "https://localhost:8080/"
        },
        "id": "icUHwgTI00h-",
        "outputId": "4165e5a8-7909-41a7-e666-1d74c0ae55ad"
      },
      "outputs": [],
      "source": [
        "df_nomes = df_nomes.withColumnRenamed(\"nome\", \"Nomes\")\n",
        "\n",
        "df_nomes.show(10)"
      ]
    },
    {
      "cell_type": "markdown",
      "metadata": {
        "id": "it4E3auB0lNo"
      },
      "source": [
        "#Etapa 3"
      ]
    },
    {
      "cell_type": "markdown",
      "metadata": {
        "id": "-4G5fPeN2r2T"
      },
      "source": [
        "Adicionando coluna escolaridade"
      ]
    },
    {
      "cell_type": "code",
      "execution_count": 7,
      "metadata": {
        "id": "-5wRavAG09CZ"
      },
      "outputs": [],
      "source": [
        "from pyspark.sql.functions import rand, when\n",
        "\n",
        "df_nomes = df_nomes.withColumn(\n",
        "    \"Escolaridade\",\n",
        "    when(rand() < 0.33, \"Fundamental\")\n",
        "    .when(rand() < 0.66, \"Medio\")\n",
        "    .otherwise(\"Superior\")\n",
        ")"
      ]
    },
    {
      "cell_type": "markdown",
      "metadata": {
        "id": "rhVGjLNS0p9A"
      },
      "source": [
        "#Etapa 4"
      ]
    },
    {
      "cell_type": "markdown",
      "metadata": {
        "id": "0BPrASq926T_"
      },
      "source": [
        "Adicionando coluna país"
      ]
    },
    {
      "cell_type": "code",
      "execution_count": null,
      "metadata": {
        "colab": {
          "base_uri": "https://localhost:8080/"
        },
        "id": "7bV0Oaoi8sK0",
        "outputId": "3d117437-43d1-46b0-d6b8-e9d48f417efd"
      },
      "outputs": [],
      "source": [
        "from pyspark.sql.functions import col, floor\n",
        "from pyspark.sql.types import StringType\n",
        "\n",
        "paises = [\"Brasil\", \"Argentina\", \"Colômbia\", \"Peru\", \"Venezuela\", \"Chile\",\n",
        "          \"Equador\", \"Bolívia\", \"Paraguai\", \"Uruguai\", \"Guiana\",\n",
        "          \"Suriname\", \"Guiana Francesa\"]\n",
        "\n",
        "paisesNumeros = len(paises)\n",
        "df_nomes = df_nomes.withColumn(\n",
        "    \"Pais\",\n",
        "    floor(rand() * paisesNumeros).cast(\"int\")\n",
        ").withColumn(\n",
        "    \"Pais\", col(\"Pais\").cast(StringType())\n",
        ")\n",
        "\n",
        "df_nomes = df_nomes.replace(\n",
        "    {str(i): pais for i, pais in enumerate(paises)}, subset=[\"Pais\"]\n",
        ")\n",
        "\n",
        "df_nomes.show(10)"
      ]
    },
    {
      "cell_type": "markdown",
      "metadata": {
        "id": "8J1MukPE8vVG"
      },
      "source": [
        "#Etapa 5"
      ]
    },
    {
      "cell_type": "markdown",
      "metadata": {
        "id": "aZCWnlC54d3K"
      },
      "source": [
        "Importando biblioteca e definindo seed"
      ]
    },
    {
      "cell_type": "code",
      "execution_count": 13,
      "metadata": {
        "id": "0X03PL6f4i2x"
      },
      "outputs": [],
      "source": [
        "from pyspark.sql.functions import rand, floor\n"
      ]
    },
    {
      "cell_type": "markdown",
      "metadata": {
        "id": "cMznmXV84yGX"
      },
      "source": [
        "Adicionando coluna AnoNascimento"
      ]
    },
    {
      "cell_type": "code",
      "execution_count": null,
      "metadata": {
        "colab": {
          "base_uri": "https://localhost:8080/"
        },
        "id": "FMsSne1341PB",
        "outputId": "f66b269c-c658-45cf-9e8a-e0f639ae1453"
      },
      "outputs": [],
      "source": [
        "df_nomes = df_nomes.withColumn(\"AnoNascimento\", floor(rand(seed=40) * (2010 - 1945 + 1) + 1945).cast(\"integer\"))\n",
        "\n",
        "df_nomes.show()"
      ]
    },
    {
      "cell_type": "markdown",
      "metadata": {
        "id": "pf7g8fnq5Mht"
      },
      "source": [
        "#Etapa 6"
      ]
    },
    {
      "cell_type": "markdown",
      "metadata": {
        "id": "GJZeh1Hw5VIU"
      },
      "source": [
        "Pessoa do século XXI"
      ]
    },
    {
      "cell_type": "code",
      "execution_count": null,
      "metadata": {
        "colab": {
          "base_uri": "https://localhost:8080/"
        },
        "id": "gggfpaMK5Zyz",
        "outputId": "116a5c4c-6608-4617-db7a-84c53f23289e"
      },
      "outputs": [],
      "source": [
        "df_select = df_nomes.select(\"Nomes\",\"AnoNascimento\").where(\"AnoNascimento >= 2001\")\n",
        "df_select.show(10)"
      ]
    },
    {
      "cell_type": "markdown",
      "metadata": {
        "id": "GsNLRl3P5kbO"
      },
      "source": [
        "#Etapa 7"
      ]
    },
    {
      "cell_type": "markdown",
      "metadata": {
        "id": "UWrM8OQZ5mTI"
      },
      "source": [
        "Pessoa do século XXI, em SQL"
      ]
    },
    {
      "cell_type": "code",
      "execution_count": null,
      "metadata": {
        "colab": {
          "base_uri": "https://localhost:8080/"
        },
        "id": "xNayutdt82Hg",
        "outputId": "b981602f-bb07-4d21-f213-e78b808954e6"
      },
      "outputs": [],
      "source": [
        "df_nomes.createOrReplaceTempView(\"pessoas\")\n",
        "spark.sql(\"SELECT Nomes, AnoNascimento FROM pessoas WHERE AnoNascimento >= 2001\").show(10)"
      ]
    },
    {
      "cell_type": "markdown",
      "metadata": {
        "id": "ZsCE_6ME878n"
      },
      "source": [
        "#Etapa 8"
      ]
    },
    {
      "cell_type": "markdown",
      "metadata": {
        "id": "gf9d_tLu5-he"
      },
      "source": [
        "Pessoas da geração Millennials\n"
      ]
    },
    {
      "cell_type": "code",
      "execution_count": null,
      "metadata": {
        "colab": {
          "base_uri": "https://localhost:8080/"
        },
        "id": "zKyaGL0j7d2K",
        "outputId": "94e0fb3d-1c79-41fb-aa79-6d246f297253"
      },
      "outputs": [],
      "source": [
        "millennials = (df_nomes[\"AnoNascimento\"] >= 1980) & (df_nomes[\"AnoNascimento\"] <= 1994)\n",
        "df_nomes.filter(millennials).count()"
      ]
    },
    {
      "cell_type": "markdown",
      "metadata": {
        "id": "K47O-FH-79f4"
      },
      "source": [
        "#Etapa 9"
      ]
    },
    {
      "cell_type": "markdown",
      "metadata": {
        "id": "zCSQrlTD8E8P"
      },
      "source": [
        "Pessoas da geração Millennials, em SQL\n"
      ]
    },
    {
      "cell_type": "code",
      "execution_count": null,
      "metadata": {
        "colab": {
          "base_uri": "https://localhost:8080/"
        },
        "id": "2Wd6BYUs7_l5",
        "outputId": "f6e0b521-9107-4103-c1e8-23168a80acd5"
      },
      "outputs": [],
      "source": [
        "df_nomes.createOrReplaceTempView(\"pessoas\")\n",
        "\n",
        "millennialsSQL = spark.sql(\"\"\"\n",
        "    SELECT COUNT(*) AS Millennials\n",
        "    FROM pessoas\n",
        "    WHERE AnoNascimento BETWEEN 1980 AND 1994\n",
        "\"\"\")\n",
        "\n",
        "millennialsSQL.show()"
      ]
    },
    {
      "cell_type": "markdown",
      "metadata": {
        "id": "vxAcHDM08jou"
      },
      "source": [
        "#Etapa 10"
      ]
    },
    {
      "cell_type": "markdown",
      "metadata": {
        "id": "ITZXGcHu9iqs"
      },
      "source": [
        "Tabela com pessoas e suas gerações em cada país"
      ]
    },
    {
      "cell_type": "code",
      "execution_count": null,
      "metadata": {
        "colab": {
          "base_uri": "https://localhost:8080/"
        },
        "id": "kxKfPql38-1-",
        "outputId": "a4c34722-7ad0-4201-c70a-5ce1033f739e"
      },
      "outputs": [],
      "source": [
        "df_nomes.createOrReplaceTempView(\"pessoas\")\n",
        "\n",
        "geracoesPais = spark.sql(\"\"\"\n",
        "SELECT Pais,\n",
        "       CASE\n",
        "           WHEN AnoNascimento BETWEEN 1944 AND 1964 THEN 'Baby Boomers'\n",
        "           WHEN AnoNascimento BETWEEN 1965 AND 1979 THEN 'Geração X'\n",
        "           WHEN AnoNascimento BETWEEN 1980 AND 1994 THEN 'Millennials'\n",
        "           WHEN AnoNascimento BETWEEN 1995 AND 2015 THEN 'Geração Z'\n",
        "           ELSE 'Outra Geração'\n",
        "       END AS Geracao,\n",
        "       COUNT(*) AS Quantidade\n",
        "FROM pessoas\n",
        "GROUP BY Pais, Geracao\n",
        "ORDER BY Pais, Geracao, Quantidade\n",
        "\"\"\")\n",
        "\n",
        "geracoesPais.show()"
      ]
    }
  ],
  "metadata": {
    "colab": {
      "provenance": []
    },
    "kernelspec": {
      "display_name": "Python 3",
      "name": "python3"
    },
    "language_info": {
      "name": "python"
    }
  },
  "nbformat": 4,
  "nbformat_minor": 0
}
